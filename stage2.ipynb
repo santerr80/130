{
 "cells": [
  {
   "cell_type": "markdown",
   "metadata": {},
   "source": [
    "1. Считайте файл 2.json и создайте Spark DataFrame."
   ]
  },
  {
   "cell_type": "code",
   "execution_count": 1,
   "metadata": {},
   "outputs": [],
   "source": [
    "from pyspark.sql import SparkSession\n",
    "\n",
    "# Создаем SparkSession\n",
    "spark = SparkSession.builder \\\n",
    "    .appName(\"Read JSON File\") \\\n",
    "    .getOrCreate()\n",
    "\n",
    "# Считываем JSON-файл и создаем DataFrame\n",
    "df = spark.read.json(\"2/2.json\")"
   ]
  },
  {
   "cell_type": "markdown",
   "metadata": {},
   "source": [
    "2. Выведите первые 14 строк"
   ]
  },
  {
   "cell_type": "code",
   "execution_count": 2,
   "metadata": {},
   "outputs": [
    {
     "name": "stdout",
     "output_type": "stream",
     "text": [
      "+-------------------+-----------+-------+-------+-------+-------+-------+\n",
      "|           category|description|item_id| length|  price| weight|  width|\n",
      "+-------------------+-----------+-------+-------+-------+-------+-------+\n",
      "|    Bath and Beauty|     Item 1|      1| 294.42| 1081.4|1981.42|2631.37|\n",
      "|        Accessories|     Item 2|      2|1384.78|2380.08| 387.59| 177.74|\n",
      "|       Art Supplies|     Item 3|      3|1600.58|4359.95|1997.04|2775.67|\n",
      "|   Sports Equipment|     Item 4|      4|  93.02| 591.79|9289.85|3904.73|\n",
      "|        Accessories|     Item 5|      5|4787.69|1457.55| 273.84|3904.13|\n",
      "|          Furniture|     Item 6|      6| 244.36| 138.51|   7.62|   1.97|\n",
      "| Bedding and Linens|     Item 7|      7|2609.81|  12.51| 2736.2|  77.45|\n",
      "|               Toys|     Item 8|      8|4338.14| 225.65|1538.35|7867.92|\n",
      "| Kitchen Appliances|     Item 9|      9|1990.52|2010.35| 243.51| 907.17|\n",
      "|    Bath and Beauty|    Item 10|     10|5553.73|  432.7|5517.82|2261.84|\n",
      "|Musical Instruments|    Item 11|     11|  607.4| 208.52|2605.06|1963.86|\n",
      "|        Electronics|    Item 12|     12|  69.62|1218.49| 242.41|7951.34|\n",
      "|          Furniture|    Item 13|     13|  66.89| 952.93|4362.39|4434.16|\n",
      "|              Books|    Item 14|     14|2962.44|1869.41|5771.47| 252.34|\n",
      "+-------------------+-----------+-------+-------+-------+-------+-------+\n",
      "only showing top 14 rows\n",
      "\n"
     ]
    }
   ],
   "source": [
    "df.show(14)"
   ]
  },
  {
   "cell_type": "markdown",
   "metadata": {},
   "source": [
    "3. Отфильтруйте данные, где category != Musical Instruments"
   ]
  },
  {
   "cell_type": "code",
   "execution_count": 3,
   "metadata": {},
   "outputs": [],
   "source": [
    "filteredDF = df.filter(df[\"category\"] != \"Musical Instruments\")\n"
   ]
  },
  {
   "cell_type": "markdown",
   "metadata": {},
   "source": [
    "4. Подсчитайте, сколько строк было отфильтровано на предыдущем шаге"
   ]
  },
  {
   "cell_type": "code",
   "execution_count": 4,
   "metadata": {},
   "outputs": [
    {
     "data": {
      "text/plain": [
       "40"
      ]
     },
     "execution_count": 4,
     "metadata": {},
     "output_type": "execute_result"
    }
   ],
   "source": [
    "totalCount = df.count()\n",
    "filteredCount = filteredDF.count()\n",
    "filteredOutCount = totalCount - filteredCount\n",
    "filteredOutCount"
   ]
  },
  {
   "cell_type": "markdown",
   "metadata": {},
   "source": [
    "5. Выполните группировку по полю category, для каждой категории рассчитав: количество элементов в группе, avg price, max length, max weight"
   ]
  },
  {
   "cell_type": "code",
   "execution_count": 5,
   "metadata": {},
   "outputs": [
    {
     "name": "stdout",
     "output_type": "stream",
     "text": [
      "+-------------------+------------------+----------+----------+\n",
      "|           Category|         avg_price|max_length|max_weight|\n",
      "+-------------------+------------------+----------+----------+\n",
      "|         Stationery|          3087.818|   9405.87|   5404.18|\n",
      "|   Sports Equipment| 3109.142368421053|   6230.73|   9289.85|\n",
      "|       Pet Supplies|2080.0357142857138|   7337.49|    8671.8|\n",
      "|      Baby Products| 2015.182068965517|    7125.4|   8638.05|\n",
      "| Kitchen Appliances|2351.9134090909097|    8331.1|   8630.18|\n",
      "|        Electronics| 2798.919230769231|   9257.98|   8325.69|\n",
      "|           Clothing|2257.1695238095226|   8337.52|   8320.98|\n",
      "|  Pantry and Snacks|2039.6944117647063|   8790.67|   7985.57|\n",
      "|       Art Supplies| 2977.551914893618|   9352.91|   9773.28|\n",
      "|    Gaming Consoles| 2163.526274509804|   7484.23|   6898.44|\n",
      "|              Books|1906.0746153846144|   7634.24|   7927.07|\n",
      "|        Accessories| 2542.514285714285|    9725.0|   7893.42|\n",
      "|          Furniture|2335.0139024390237|   8286.73|   7679.46|\n",
      "| Bedding and Linens|2744.1084374999996|   7026.87|   6410.81|\n",
      "|    Bath and Beauty| 2793.131707317074|   9623.75|   7362.07|\n",
      "|              Shoes| 1826.105250000001|   8642.06|   7460.91|\n",
      "|         Home Goods|2884.5127586206895|   8392.25|   9289.98|\n",
      "|Musical Instruments|2802.6397500000003|   8503.29|   8451.37|\n",
      "|               Toys|2562.8711111111115|   9265.76|   8163.65|\n",
      "+-------------------+------------------+----------+----------+\n",
      "\n"
     ]
    }
   ],
   "source": [
    "from pyspark.sql.functions import avg, max\n",
    "\n",
    "groupedDF = df.groupBy(\"Category\").agg(\n",
    "    avg(\"Price\").alias(\"avg_price\"),\n",
    "    max(\"Length\").alias(\"max_length\"),\n",
    "    max(\"Weight\").alias(\"max_weight\")\n",
    ")\n",
    "groupedDF.show()"
   ]
  },
  {
   "cell_type": "markdown",
   "metadata": {},
   "source": [
    "6. Запишите полученный набор данных в файл: r_2.csv"
   ]
  },
  {
   "cell_type": "code",
   "execution_count": 6,
   "metadata": {},
   "outputs": [],
   "source": [
    "file_path = \"2/r_2.csv\"\n",
    "\n",
    "groupedDF.toPandas().to_csv(file_path)"
   ]
  }
 ],
 "metadata": {
  "kernelspec": {
   "display_name": ".venv",
   "language": "python",
   "name": "python3"
  },
  "language_info": {
   "codemirror_mode": {
    "name": "ipython",
    "version": 3
   },
   "file_extension": ".py",
   "mimetype": "text/x-python",
   "name": "python",
   "nbconvert_exporter": "python",
   "pygments_lexer": "ipython3",
   "version": "3.10.11"
  }
 },
 "nbformat": 4,
 "nbformat_minor": 2
}
