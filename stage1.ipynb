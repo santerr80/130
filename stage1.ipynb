{
 "cells": [
  {
   "cell_type": "markdown",
   "metadata": {},
   "source": [
    "1. Считайте файл 1.json и создайте Spark DataFrame."
   ]
  },
  {
   "cell_type": "code",
   "execution_count": 1,
   "metadata": {},
   "outputs": [],
   "source": [
    "from pyspark.sql import SparkSession\n",
    "\n",
    "# Создаем SparkSession\n",
    "spark = SparkSession.builder \\\n",
    "    .appName(\"Read JSON File\") \\\n",
    "    .getOrCreate()\n",
    "\n",
    "# Считываем JSON-файл и создаем DataFrame\n",
    "df = spark.read.json(\"1/1.json\")"
   ]
  },
  {
   "cell_type": "markdown",
   "metadata": {},
   "source": [
    "2. Выведите первые 15 строк"
   ]
  },
  {
   "cell_type": "code",
   "execution_count": 2,
   "metadata": {},
   "outputs": [
    {
     "name": "stdout",
     "output_type": "stream",
     "text": [
      "+-----------------+--------------------+---------------+-----------------+-----+----------+---------------+--------+------+---------------+\n",
      "|         category|         description|expiration_date|             name|price|product_id|production_date|quantity|rating|         status|\n",
      "+-----------------+--------------------+---------------+-----------------+-----+----------+---------------+--------+------+---------------+\n",
      "|Молочные продукты|Помогает поддержи...|     2009-01-01|          Сметана| 4087|         1|     2006-03-09|     596|  2.86|       Returned|\n",
      "|          Бакалея|Помогает поддержи...|     2017-05-05|     Сода пищевая| 9746|         2|     1991-01-02|     553|   2.1|      Delivered|\n",
      "|  Товары для дома|Помогает поддержи...|     2008-03-02| Туалетная бумага| 9672|         3|     1992-02-20|     995|  0.21|Awaiting Review|\n",
      "|             Мясо|Отличается высоки...|     2030-01-16|           Чоризо| 7468|         4|     2017-04-04|     563|  4.83|      Delivered|\n",
      "|          Бакалея|Помогает поддержи...|     2030-01-01|Конопляные семена| 4284|         5|     2008-01-04|      56|  3.44|   Out of Stock|\n",
      "|            Овощи|Помогает поддержи...|     2023-01-07|           Цукини| 1792|         6|     1993-03-09|     844|  0.32|           Sold|\n",
      "|          Напитки|Подходит для испо...|     2015-02-07|            Кубай|  477|         7|     2015-01-27|     180|   4.6|Awaiting Review|\n",
      "|  Товары для дома|Отличается высоки...|     2029-02-04|   Салфетки сухие| 9841|         8|     2005-01-11|     342|  1.21|       Refunded|\n",
      "|          Напитки|Отличается высоки...|     2013-01-01|     Феодосийская| 9909|         9|     2012-02-03|     967|  4.76|       Shipping|\n",
      "|             Мясо|Помогает поддержи...|     2026-04-04|  Буррито с мясом| 1096|        10|     2018-03-04|     362|  3.48|   Out of Stock|\n",
      "|  Товары для дома|Отличается высоко...|     2028-01-11|           Швабра| 2924|        11|     2006-01-28|     897|  1.82|        Pending|\n",
      "|  Товары для дома|Прошел все необхо...|     2017-02-04| Пакеты для школы| 2354|        12|     2005-10-14|      91|  2.26|       Shipping|\n",
      "|Молочные продукты|Помогает поддержи...|     2029-02-09|            Катык| 6054|        13|     2008-09-01|     723|  3.55|           Sold|\n",
      "|           Фрукты|Не содержит консе...|     2010-03-19|          Черешня| 4687|        14|     1997-06-10|      81|  2.58|       In Stock|\n",
      "|             Мясо|Может быть исполь...|     1994-06-03|            Шейка| 2663|        15|     1992-05-20|     393|  1.17|   On Backorder|\n",
      "+-----------------+--------------------+---------------+-----------------+-----+----------+---------------+--------+------+---------------+\n",
      "only showing top 15 rows\n",
      "\n"
     ]
    }
   ],
   "source": [
    "df.show(15)"
   ]
  },
  {
   "cell_type": "markdown",
   "metadata": {},
   "source": [
    "3. Выведите все названия колонок"
   ]
  },
  {
   "cell_type": "code",
   "execution_count": 3,
   "metadata": {},
   "outputs": [
    {
     "data": {
      "text/plain": [
       "['category',\n",
       " 'description',\n",
       " 'expiration_date',\n",
       " 'name',\n",
       " 'price',\n",
       " 'product_id',\n",
       " 'production_date',\n",
       " 'quantity',\n",
       " 'rating',\n",
       " 'status']"
      ]
     },
     "execution_count": 3,
     "metadata": {},
     "output_type": "execute_result"
    }
   ],
   "source": [
    "df.columns"
   ]
  },
  {
   "cell_type": "markdown",
   "metadata": {},
   "source": [
    "4. Выведите статистические характеристики для всех колонок"
   ]
  },
  {
   "cell_type": "code",
   "execution_count": 4,
   "metadata": {},
   "outputs": [
    {
     "name": "stdout",
     "output_type": "stream",
     "text": [
      "+-------+--------+--------------------+---------------+----+------------------+------------------+---------------+-----------------+------------------+--------------------+\n",
      "|summary|category|         description|expiration_date|name|             price|        product_id|production_date|         quantity|            rating|              status|\n",
      "+-------+--------+--------------------+---------------+----+------------------+------------------+---------------+-----------------+------------------+--------------------+\n",
      "|  count|     885|                 885|            885| 885|               885|               885|            885|              885|               885|                 885|\n",
      "|   mean|    NULL|                NULL|           NULL|NULL|   4945.7197740113|             443.0|           NULL|497.0802259887006|2.5872542372881346|                NULL|\n",
      "| stddev|    NULL|                NULL|           NULL|NULL|2778.8664374238424|255.62179093340222|           NULL|291.8037160744892|1.4441908237890602|                NULL|\n",
      "|    min| Бакалея|Высокое содержани...|     1990-02-12| 7UP|               125|                 1|     1990-01-03|                1|              0.01|Available for Pickup|\n",
      "|    max|  Фрукты|Является неотъемл...|     2030-11-04| Ямс|              9978|               885|     2022-12-26|              998|              5.01|Temporarily Unava...|\n",
      "+-------+--------+--------------------+---------------+----+------------------+------------------+---------------+-----------------+------------------+--------------------+\n",
      "\n"
     ]
    }
   ],
   "source": [
    "df.describe().show()"
   ]
  },
  {
   "cell_type": "markdown",
   "metadata": {},
   "source": [
    "5. Удалите указанную колонку: description"
   ]
  },
  {
   "cell_type": "code",
   "execution_count": 5,
   "metadata": {},
   "outputs": [],
   "source": [
    "df = df.drop(\"description\")"
   ]
  },
  {
   "cell_type": "markdown",
   "metadata": {},
   "source": [
    "6. Создайте новую колонку: нормализация по price (price / sum(price))"
   ]
  },
  {
   "cell_type": "code",
   "execution_count": 6,
   "metadata": {},
   "outputs": [],
   "source": [
    "from pyspark.sql.functions import col, sum\n",
    "\n",
    "\n",
    "total_price = df.select(sum(\"price\")).collect()[0][0]\n",
    "\n",
    "\n",
    "df = df.withColumn(\"normalized_price\", col(\"price\") / total_price)\n"
   ]
  },
  {
   "cell_type": "markdown",
   "metadata": {},
   "source": [
    "7. Запишите полученный набор данных в файл: r_1.csv"
   ]
  },
  {
   "cell_type": "code",
   "execution_count": 7,
   "metadata": {},
   "outputs": [],
   "source": [
    "file_path = \"1/r_1.csv\"\n",
    "\n",
    "df.toPandas().to_csv(file_path)"
   ]
  }
 ],
 "metadata": {
  "kernelspec": {
   "display_name": ".venv",
   "language": "python",
   "name": "python3"
  },
  "language_info": {
   "codemirror_mode": {
    "name": "ipython",
    "version": 3
   },
   "file_extension": ".py",
   "mimetype": "text/x-python",
   "name": "python",
   "nbconvert_exporter": "python",
   "pygments_lexer": "ipython3",
   "version": "3.10.11"
  }
 },
 "nbformat": 4,
 "nbformat_minor": 2
}
